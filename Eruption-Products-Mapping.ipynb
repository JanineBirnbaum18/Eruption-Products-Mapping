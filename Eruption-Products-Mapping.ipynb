{
 "cells": [
  {
   "cell_type": "markdown",
   "metadata": {},
   "source": [
    "# Eruption Products Mapping\n",
    "\n",
    "Goal: Use publically available satellite imagery from landsat 8 to map volcanic eruption products."
   ]
  },
  {
   "cell_type": "markdown",
   "metadata": {},
   "source": [
    "## Import Packages"
   ]
  },
  {
   "cell_type": "code",
   "execution_count": 1,
   "metadata": {},
   "outputs": [],
   "source": [
    "import numpy as np\n",
    "from matplotlib import pyplot as plt\n",
    "%matplotlib inline\n",
    "import pandas as pd\n",
    "import cartopy.crs as ccrs \n",
    "import cartopy.feature as cfeature\n",
    "import datetime as dt\n",
    "import xarray as xr\n",
    "import rasterio\n",
    "import pyproj\n",
    "from sklearn.decomposition.pca import PCA"
   ]
  },
  {
   "cell_type": "markdown",
   "metadata": {},
   "source": [
    "## Specify Dates and Locations of Volcanic Eruptions"
   ]
  },
  {
   "cell_type": "markdown",
   "metadata": {},
   "source": [
    "See https://www.ngdc.noaa.gov/hazard/volcano.shtml \n",
    "and https://volcano.si.edu/search_volcano.cfm\n",
    "for a list of historical eruptions. "
   ]
  },
  {
   "cell_type": "code",
   "execution_count": 2,
   "metadata": {},
   "outputs": [],
   "source": [
    "#example provided for fuego, guatemala\n",
    "lat  = 14.473\n",
    "lon  = -90.88\n",
    "date = dt.date(year=2015,month=7,day=10)"
   ]
  },
  {
   "cell_type": "code",
   "execution_count": 3,
   "metadata": {},
   "outputs": [],
   "source": [
    "#Read in file containing latitude-longitude information for LandSat 8 scenes\n",
    "WRS = pd.read_csv('WRScornerPoints.csv')"
   ]
  },
  {
   "cell_type": "code",
   "execution_count": 4,
   "metadata": {},
   "outputs": [
    {
     "name": "stdout",
     "output_type": "stream",
     "text": [
      "PATH 20,ROW  50\n"
     ]
    },
    {
     "data": {
      "text/html": [
       "<div>\n",
       "<style scoped>\n",
       "    .dataframe tbody tr th:only-of-type {\n",
       "        vertical-align: middle;\n",
       "    }\n",
       "\n",
       "    .dataframe tbody tr th {\n",
       "        vertical-align: top;\n",
       "    }\n",
       "\n",
       "    .dataframe thead th {\n",
       "        text-align: right;\n",
       "    }\n",
       "</style>\n",
       "<table border=\"1\" class=\"dataframe\">\n",
       "  <thead>\n",
       "    <tr style=\"text-align: right;\">\n",
       "      <th></th>\n",
       "      <th>PATH</th>\n",
       "      <th>ROW</th>\n",
       "      <th>CTR LAT</th>\n",
       "      <th>CTR LON</th>\n",
       "      <th>UL LAT</th>\n",
       "      <th>UL LON</th>\n",
       "      <th>UR LAT</th>\n",
       "      <th>UR LON</th>\n",
       "      <th>LL LAT</th>\n",
       "      <th>LL LON</th>\n",
       "      <th>LR LAT</th>\n",
       "      <th>LR LON</th>\n",
       "    </tr>\n",
       "  </thead>\n",
       "  <tbody>\n",
       "    <tr>\n",
       "      <th>4762</th>\n",
       "      <td>20.0</td>\n",
       "      <td>50.0</td>\n",
       "      <td>14.456913</td>\n",
       "      <td>-90.841979</td>\n",
       "      <td>15.39</td>\n",
       "      <td>-91.543</td>\n",
       "      <td>15.134</td>\n",
       "      <td>-89.783</td>\n",
       "      <td>13.776</td>\n",
       "      <td>-91.895</td>\n",
       "      <td>13.522</td>\n",
       "      <td>-90.147</td>\n",
       "    </tr>\n",
       "  </tbody>\n",
       "</table>\n",
       "</div>"
      ],
      "text/plain": [
       "      PATH   ROW    CTR LAT    CTR LON  UL LAT  UL LON  UR LAT  UR LON  \\\n",
       "4762  20.0  50.0  14.456913 -90.841979   15.39 -91.543  15.134 -89.783   \n",
       "\n",
       "      LL LAT  LL LON  LR LAT  LR LON  \n",
       "4762  13.776 -91.895  13.522 -90.147  "
      ]
     },
     "execution_count": 4,
     "metadata": {},
     "output_type": "execute_result"
    }
   ],
   "source": [
    "#identify path and row of scenes containing specified latitude and longitude\n",
    "#ascending scenes are taken at night, descending scenes during day\n",
    "scene_asc = WRS.loc[(lat-WRS['LL LAT'] <= (WRS['UL LAT']-WRS['LL LAT'])/(WRS['UL LON']-WRS['LL LON'])*(lon-WRS['LL LON'])) &\n",
    "        (lat-WRS['UR LAT'] >= (WRS['UL LAT']-WRS['UR LAT'])/(WRS['UL LON']-WRS['UR LON'])*(lon-WRS['UR LON'])) &\n",
    "        (lat-WRS['LR LAT'] >= (WRS['UR LAT']-WRS['LR LAT'])/(WRS['UR LON']-WRS['LR LON'])*(lon-WRS['LR LON'])) &\n",
    "        (lat-WRS['LR LAT'] <= (WRS['LL LAT']-WRS['LR LAT'])/(WRS['LL LON']-WRS['LR LON'])*(lon-WRS['LR LON'])) \n",
    "       ]\n",
    "\n",
    "scene_dsc = WRS.loc[(lat-WRS['UL LAT'] <= (WRS['LL LAT']-WRS['UL LAT'])/(WRS['LL LON']-WRS['UL LON'])*(lon-WRS['UL LON'])) &\n",
    "        (lat-WRS['LR LAT'] >= (WRS['LL LAT']-WRS['LR LAT'])/(WRS['LL LON']-WRS['LR LON'])*(lon-WRS['LR LON'])) &\n",
    "        (lat-WRS['UR LAT'] >= (WRS['LR LAT']-WRS['UR LAT'])/(WRS['LR LON']-WRS['UR LON'])*(lon-WRS['UR LON'])) &\n",
    "        (lat-WRS['UR LAT'] <= (WRS['UL LAT']-WRS['UR LAT'])/(WRS['UL LON']-WRS['UR LON'])*(lon-WRS['UR LON'])) \n",
    "       ]\n",
    "\n",
    "PATH = []\n",
    "ROW = []\n",
    "\n",
    "#record all path,row pairs in descending orbits\n",
    "for ind in scene_dsc.index:\n",
    "    PATH = np.append(PATH, scene_dsc.loc[ind].PATH)\n",
    "    ROW = np.append(ROW, scene_dsc.loc[ind].ROW)\n",
    "    print(f'PATH {scene_dsc.loc[ind].PATH:1.0f}' + ',' + f'ROW  {scene_dsc.loc[ind].ROW:1.0f}')\n",
    "\n",
    "scene_dsc"
   ]
  },
  {
   "cell_type": "code",
   "execution_count": null,
   "metadata": {},
   "outputs": [
    {
     "data": {
      "text/plain": [
       "Text(0.5, 1.0, 'Scenes including coordinates')"
      ]
     },
     "execution_count": 5,
     "metadata": {},
     "output_type": "execute_result"
    },
    {
     "data": {
      "image/png": "[encoded data removed]",
      "text/plain": [
       "<Figure size 432x288 with 1 Axes>"
      ]
     },
     "metadata": {
      "needs_background": "light"
     },
     "output_type": "display_data"
    }
   ],
   "source": [
    "#Plot scene boundaries on simple map\n",
    "map_proj  = ccrs.PlateCarree(central_longitude=180)\n",
    "data_proj = ccrs.PlateCarree()\n",
    "\n",
    "fig,ax = plt.subplots(subplot_kw={'projection': map_proj})\n",
    "\n",
    "ax.stock_img()\n",
    "ax.coastlines('50m')\n",
    "ax.plot(lon,lat,color='r',marker='o',transform=data_proj)\n",
    "ax.scatter(scene_dsc['CTR LON'],scene_dsc['CTR LAT'],c='k',transform=data_proj)\n",
    "\n",
    "for ind in scene_dsc.index:\n",
    "    scene = scene_dsc.loc[ind]\n",
    "    ax.plot([scene['UL LON'],scene['LL LON'],scene['LR LON'],scene['UR LON'],scene['UL LON']],\n",
    "            [scene['UL LAT'],scene['LL LAT'],scene['LR LAT'],scene['UR LAT'],scene['UL LAT']],\n",
    "            c='k',transform=data_proj)\n",
    "    \n",
    "ax.set_extent([lon-2, lon+2, lat-2, lat+2])\n",
    "ax.set_title('Scenes including coordinates')"
   ]
  },
  {
   "cell_type": "code",
   "execution_count": null,
   "metadata": {},
   "outputs": [],
   "source": [
    "#access online list of available scenes\n",
    "scene_list = pd.read_csv('https://landsat-pds.s3.amazonaws.com/c1/L8/scene_list.gz')"
   ]
  },
  {
   "cell_type": "code",
   "execution_count": null,
   "metadata": {},
   "outputs": [],
   "source": [
    "#convert acquisitionDate variable to datetime objects\n",
    "scene_list['acquisitionDate'] = pd.to_datetime(scene_list.acquisitionDate)"
   ]
  },
  {
   "cell_type": "code",
   "execution_count": null,
   "metadata": {},
   "outputs": [
    {
     "name": "stderr",
     "output_type": "stream",
     "text": [
      "C:\\Users\\Janine\\Anaconda3\\envs\\RCES_Final\\lib\\site-packages\\ipykernel_launcher.py:6: FutureWarning: Comparing Series of datetimes with 'datetime.date'.  Currently, the\n",
      "'datetime.date' is coerced to a datetime. In the future pandas will\n",
      "not coerce, and a TypeError will be raised. To retain the current\n",
      "behavior, convert the 'datetime.date' to a datetime with\n",
      "'pd.Timestamp'.\n",
      "  \n",
      "C:\\Users\\Janine\\Anaconda3\\envs\\RCES_Final\\lib\\site-packages\\ipykernel_launcher.py:13: FutureWarning: Comparing Series of datetimes with 'datetime.date'.  Currently, the\n",
      "'datetime.date' is coerced to a datetime. In the future pandas will\n",
      "not coerce, and a TypeError will be raised. To retain the current\n",
      "behavior, convert the 'datetime.date' to a datetime with\n",
      "'pd.Timestamp'.\n",
      "  del sys.path[0]\n"
     ]
    },
    {
     "data": {
      "text/html": [
       "<div>\n",
       "<style scoped>\n",
       "    .dataframe tbody tr th:only-of-type {\n",
       "        vertical-align: middle;\n",
       "    }\n",
       "\n",
       "    .dataframe tbody tr th {\n",
       "        vertical-align: top;\n",
       "    }\n",
       "\n",
       "    .dataframe thead th {\n",
       "        text-align: right;\n",
       "    }\n",
       "</style>\n",
       "<table border=\"1\" class=\"dataframe\">\n",
       "  <thead>\n",
       "    <tr style=\"text-align: right;\">\n",
       "      <th></th>\n",
       "      <th>productId</th>\n",
       "      <th>entityId</th>\n",
       "      <th>acquisitionDate</th>\n",
       "      <th>cloudCover</th>\n",
       "      <th>processingLevel</th>\n",
       "      <th>path</th>\n",
       "      <th>row</th>\n",
       "      <th>min_lat</th>\n",
       "      <th>min_lon</th>\n",
       "      <th>max_lat</th>\n",
       "      <th>max_lon</th>\n",
       "      <th>download_url</th>\n",
       "    </tr>\n",
       "  </thead>\n",
       "  <tbody>\n",
       "    <tr>\n",
       "      <th>906327</th>\n",
       "      <td>LC08_L1TP_020050_20150804_20170226_01_T1</td>\n",
       "      <td>LC80200502015216LGN01</td>\n",
       "      <td>2015-08-04 16:23:44.672992</td>\n",
       "      <td>4.80</td>\n",
       "      <td>L1TP</td>\n",
       "      <td>20</td>\n",
       "      <td>50</td>\n",
       "      <td>13.39582</td>\n",
       "      <td>-91.85744</td>\n",
       "      <td>15.50486</td>\n",
       "      <td>-89.76694</td>\n",
       "      <td>https://s3-us-west-2.amazonaws.com/landsat-pds...</td>\n",
       "    </tr>\n",
       "    <tr>\n",
       "      <th>906326</th>\n",
       "      <td>LC08_L1TP_020050_20150719_20170226_01_T1</td>\n",
       "      <td>LC80200502015200LGN01</td>\n",
       "      <td>2015-07-19 16:23:41.866244</td>\n",
       "      <td>8.52</td>\n",
       "      <td>L1TP</td>\n",
       "      <td>20</td>\n",
       "      <td>50</td>\n",
       "      <td>13.39607</td>\n",
       "      <td>-91.87683</td>\n",
       "      <td>15.50496</td>\n",
       "      <td>-89.78631</td>\n",
       "      <td>https://s3-us-west-2.amazonaws.com/landsat-pds...</td>\n",
       "    </tr>\n",
       "    <tr>\n",
       "      <th>906328</th>\n",
       "      <td>LC08_L1TP_020050_20150820_20170225_01_T1</td>\n",
       "      <td>LC80200502015232LGN01</td>\n",
       "      <td>2015-08-20 16:23:52.564642</td>\n",
       "      <td>9.96</td>\n",
       "      <td>L1TP</td>\n",
       "      <td>20</td>\n",
       "      <td>50</td>\n",
       "      <td>13.39590</td>\n",
       "      <td>-91.86298</td>\n",
       "      <td>15.50489</td>\n",
       "      <td>-89.77248</td>\n",
       "      <td>https://s3-us-west-2.amazonaws.com/landsat-pds...</td>\n",
       "    </tr>\n",
       "    <tr>\n",
       "      <th>906331</th>\n",
       "      <td>LC08_L1TP_020050_20151007_20170225_01_T1</td>\n",
       "      <td>LC80200502015280LGN01</td>\n",
       "      <td>2015-10-07 16:24:08.486096</td>\n",
       "      <td>13.14</td>\n",
       "      <td>L1TP</td>\n",
       "      <td>20</td>\n",
       "      <td>50</td>\n",
       "      <td>13.39597</td>\n",
       "      <td>-91.86852</td>\n",
       "      <td>15.50492</td>\n",
       "      <td>-89.77801</td>\n",
       "      <td>https://s3-us-west-2.amazonaws.com/landsat-pds...</td>\n",
       "    </tr>\n",
       "    <tr>\n",
       "      <th>906332</th>\n",
       "      <td>LC08_L1TP_020050_20151023_20180130_01_T1</td>\n",
       "      <td>LC80200502015296LGN02</td>\n",
       "      <td>2015-10-23 16:24:11.894355</td>\n",
       "      <td>15.44</td>\n",
       "      <td>L1TP</td>\n",
       "      <td>20</td>\n",
       "      <td>50</td>\n",
       "      <td>13.39600</td>\n",
       "      <td>-91.87129</td>\n",
       "      <td>15.50493</td>\n",
       "      <td>-89.78078</td>\n",
       "      <td>https://s3-us-west-2.amazonaws.com/landsat-pds...</td>\n",
       "    </tr>\n",
       "    <tr>\n",
       "      <th>906329</th>\n",
       "      <td>LC08_L1TP_020050_20150905_20170225_01_T1</td>\n",
       "      <td>LC80200502015248LGN01</td>\n",
       "      <td>2015-09-05 16:23:57.661124</td>\n",
       "      <td>25.65</td>\n",
       "      <td>L1TP</td>\n",
       "      <td>20</td>\n",
       "      <td>50</td>\n",
       "      <td>13.39586</td>\n",
       "      <td>-91.86021</td>\n",
       "      <td>15.50488</td>\n",
       "      <td>-89.76971</td>\n",
       "      <td>https://s3-us-west-2.amazonaws.com/landsat-pds...</td>\n",
       "    </tr>\n",
       "    <tr>\n",
       "      <th>906333</th>\n",
       "      <td>LC08_L1TP_020050_20151108_20170225_01_T1</td>\n",
       "      <td>LC80200502015312LGN01</td>\n",
       "      <td>2015-11-08 16:24:14.070396</td>\n",
       "      <td>27.05</td>\n",
       "      <td>L1TP</td>\n",
       "      <td>20</td>\n",
       "      <td>50</td>\n",
       "      <td>13.39600</td>\n",
       "      <td>-91.87129</td>\n",
       "      <td>15.50493</td>\n",
       "      <td>-89.78078</td>\n",
       "      <td>https://s3-us-west-2.amazonaws.com/landsat-pds...</td>\n",
       "    </tr>\n",
       "    <tr>\n",
       "      <th>906334</th>\n",
       "      <td>LC08_L1TP_020050_20151124_20170225_01_T1</td>\n",
       "      <td>LC80200502015328LGN01</td>\n",
       "      <td>2015-11-24 16:24:16.497955</td>\n",
       "      <td>40.94</td>\n",
       "      <td>L1TP</td>\n",
       "      <td>20</td>\n",
       "      <td>50</td>\n",
       "      <td>13.39607</td>\n",
       "      <td>-91.87683</td>\n",
       "      <td>15.50496</td>\n",
       "      <td>-89.78631</td>\n",
       "      <td>https://s3-us-west-2.amazonaws.com/landsat-pds...</td>\n",
       "    </tr>\n",
       "    <tr>\n",
       "      <th>906330</th>\n",
       "      <td>LC08_L1TP_020050_20150921_20170302_01_T1</td>\n",
       "      <td>LC80200502015264LGN02</td>\n",
       "      <td>2015-09-21 16:24:05.974147</td>\n",
       "      <td>59.53</td>\n",
       "      <td>L1TP</td>\n",
       "      <td>20</td>\n",
       "      <td>50</td>\n",
       "      <td>13.39604</td>\n",
       "      <td>-91.87406</td>\n",
       "      <td>15.50495</td>\n",
       "      <td>-89.78354</td>\n",
       "      <td>https://s3-us-west-2.amazonaws.com/landsat-pds...</td>\n",
       "    </tr>\n",
       "  </tbody>\n",
       "</table>\n",
       "</div>"
      ],
      "text/plain": [
       "                                       productId               entityId  \\\n",
       "906327  LC08_L1TP_020050_20150804_20170226_01_T1  LC80200502015216LGN01   \n",
       "906326  LC08_L1TP_020050_20150719_20170226_01_T1  LC80200502015200LGN01   \n",
       "906328  LC08_L1TP_020050_20150820_20170225_01_T1  LC80200502015232LGN01   \n",
       "906331  LC08_L1TP_020050_20151007_20170225_01_T1  LC80200502015280LGN01   \n",
       "906332  LC08_L1TP_020050_20151023_20180130_01_T1  LC80200502015296LGN02   \n",
       "906329  LC08_L1TP_020050_20150905_20170225_01_T1  LC80200502015248LGN01   \n",
       "906333  LC08_L1TP_020050_20151108_20170225_01_T1  LC80200502015312LGN01   \n",
       "906334  LC08_L1TP_020050_20151124_20170225_01_T1  LC80200502015328LGN01   \n",
       "906330  LC08_L1TP_020050_20150921_20170302_01_T1  LC80200502015264LGN02   \n",
       "\n",
       "                  acquisitionDate  cloudCover processingLevel  path  row  \\\n",
       "906327 2015-08-04 16:23:44.672992        4.80            L1TP    20   50   \n",
       "906326 2015-07-19 16:23:41.866244        8.52            L1TP    20   50   \n",
       "906328 2015-08-20 16:23:52.564642        9.96            L1TP    20   50   \n",
       "906331 2015-10-07 16:24:08.486096       13.14            L1TP    20   50   \n",
       "906332 2015-10-23 16:24:11.894355       15.44            L1TP    20   50   \n",
       "906329 2015-09-05 16:23:57.661124       25.65            L1TP    20   50   \n",
       "906333 2015-11-08 16:24:14.070396       27.05            L1TP    20   50   \n",
       "906334 2015-11-24 16:24:16.497955       40.94            L1TP    20   50   \n",
       "906330 2015-09-21 16:24:05.974147       59.53            L1TP    20   50   \n",
       "\n",
       "         min_lat   min_lon   max_lat   max_lon  \\\n",
       "906327  13.39582 -91.85744  15.50486 -89.76694   \n",
       "906326  13.39607 -91.87683  15.50496 -89.78631   \n",
       "906328  13.39590 -91.86298  15.50489 -89.77248   \n",
       "906331  13.39597 -91.86852  15.50492 -89.77801   \n",
       "906332  13.39600 -91.87129  15.50493 -89.78078   \n",
       "906329  13.39586 -91.86021  15.50488 -89.76971   \n",
       "906333  13.39600 -91.87129  15.50493 -89.78078   \n",
       "906334  13.39607 -91.87683  15.50496 -89.78631   \n",
       "906330  13.39604 -91.87406  15.50495 -89.78354   \n",
       "\n",
       "                                             download_url  \n",
       "906327  https://s3-us-west-2.amazonaws.com/landsat-pds...  \n",
       "906326  https://s3-us-west-2.amazonaws.com/landsat-pds...  \n",
       "906328  https://s3-us-west-2.amazonaws.com/landsat-pds...  \n",
       "906331  https://s3-us-west-2.amazonaws.com/landsat-pds...  \n",
       "906332  https://s3-us-west-2.amazonaws.com/landsat-pds...  \n",
       "906329  https://s3-us-west-2.amazonaws.com/landsat-pds...  \n",
       "906333  https://s3-us-west-2.amazonaws.com/landsat-pds...  \n",
       "906334  https://s3-us-west-2.amazonaws.com/landsat-pds...  \n",
       "906330  https://s3-us-west-2.amazonaws.com/landsat-pds...  "
      ]
     },
     "execution_count": 8,
     "metadata": {},
     "output_type": "execute_result"
    }
   ],
   "source": [
    "#identify scenes before and after eruption with low cloud cover\n",
    "deltat = dt.timedelta(weeks=20)\n",
    "fls_pre = pd.DataFrame()\n",
    "for ind in scene_dsc.index:\n",
    "    fls_pre = fls_pre.append(scene_list.loc[(scene_list['path']==scene_dsc.loc[ind].PATH) & (scene_list['row']==scene_dsc.loc[ind].ROW) &\n",
    "                     (scene_list['acquisitionDate']>(date-deltat)) & (scene_list['acquisitionDate']<date) &\n",
    "                     (scene_list['cloudCover'] <= 60)])\n",
    "fls_pre = fls_pre.sort_values(by=['cloudCover'])\n",
    "    \n",
    "fls_post = pd.DataFrame()\n",
    "for ind in scene_dsc.index:\n",
    "    fls_post = fls_post.append(scene_list.loc[(scene_list['path']==scene_dsc.loc[ind].PATH) & (scene_list['row']==scene_dsc.loc[ind].ROW) &\n",
    "                     (scene_list['acquisitionDate']>(date)) & (scene_list['acquisitionDate']<date+deltat) &\n",
    "                     (scene_list['cloudCover'] <= 60)])\n",
    "fls_post = fls_post.sort_values(by=['cloudCover'])\n",
    "fls_post"
   ]
  },
  {
   "cell_type": "markdown",
   "metadata": {},
   "source": [
    "## Find Data on Amazon S3"
   ]
  },
  {
   "cell_type": "code",
   "execution_count": null,
   "metadata": {},
   "outputs": [],
   "source": [
    "#define dictionary specifying bands of interest\n",
    "bands = {'B2': 'BLUE','B3': 'GREEN','B4': 'RED','B5': 'NIR','B7': 'SWIR','B10': 'THERM'}"
   ]
  },
  {
   "cell_type": "code",
   "execution_count": null,
   "metadata": {},
   "outputs": [],
   "source": [
    "#download the first band to get geometric data\n",
    "#for raster images all bands must have same geometric information\n",
    "\n",
    "def downloadGeom(fls,scene_num):\n",
    "    fls.download_url.iloc[scene_num]\n",
    "    url = fls.download_url.iloc[-1][:-10] + fls.productId.iloc[-1] + '_B10.TIF'\n",
    "    #url = fls.download_url.iloc[scene_num][:-10] + fls.entityId.iloc[scene_num] + '_B2.TIF'\n",
    "    BLUE = rasterio.open(url)\n",
    "    return(BLUE)"
   ]
  },
  {
   "cell_type": "code",
   "execution_count": null,
   "metadata": {},
   "outputs": [
    {
     "data": {
      "text/plain": [
       "<open RasterReader name='https://s3-us-west-2.amazonaws.com/landsat-pds/c1/L8/020/050/LC08_L1TP_020050_20150516_20170301_01_T1/LC08_L1TP_020050_20150516_20170301_01_T1_B10.TIF' mode='r'>"
      ]
     },
     "execution_count": 11,
     "metadata": {},
     "output_type": "execute_result"
    }
   ],
   "source": [
    "scene_pre = 0\n",
    "scene_post = 0\n",
    "\n",
    "BLUE_pre = downloadGeom(fls_pre,scene_pre)\n",
    "BLUE_post = downloadGeom(fls_post,scene_post)\n",
    "BLUE_pre"
   ]
  },
  {
   "cell_type": "code",
   "execution_count": null,
   "metadata": {},
   "outputs": [],
   "source": [
    "def projInfo(BLUE,lat,lon):\n",
    "    #define data projection from metadata\n",
    "    dataProj = pyproj.Proj(BLUE.crs) # Pass CRS of image from rasterio\n",
    "    lonlatProj = pyproj.Proj(init='epsg:4326')\n",
    "\n",
    "    #find volcanic center in data coordinates (UTM)\n",
    "    east,north = pyproj.transform(lonlatProj, dataProj, lon, lat)\n",
    "\n",
    "    #define dimension coordinates\n",
    "    x = np.linspace(BLUE.bounds.left,BLUE.bounds.right,BLUE.width,endpoint=True)\n",
    "    y = np.linspace(BLUE.bounds.top,BLUE.bounds.bottom,BLUE.height,endpoint=True)\n",
    "\n",
    "    #initialize dataset using first band\n",
    "    ds = xr.Dataset(data_vars={'BLUE': (('y','x'), BLUE.read(1))}, coords={'x': x, 'y': y})\n",
    "    \n",
    "    return(east,north,ds)"
   ]
  },
  {
   "cell_type": "code",
   "execution_count": null,
   "metadata": {},
   "outputs": [
    {
     "data": {
      "text/plain": [
       "<xarray.Dataset>\n",
       "Dimensions:  (x: 7551, y: 7711)\n",
       "Coordinates:\n",
       "  * x        (x) float64 6.219e+05 6.219e+05 6.219e+05 ... 8.484e+05 8.484e+05\n",
       "  * y        (y) float64 1.715e+06 1.714e+06 1.714e+06 ... 1.483e+06 1.483e+06\n",
       "Data variables:\n",
       "    BLUE     (y, x) uint16 0 0 0 0 0 0 0 0 0 0 0 0 0 ... 0 0 0 0 0 0 0 0 0 0 0 0"
      ]
     },
     "execution_count": 13,
     "metadata": {},
     "output_type": "execute_result"
    }
   ],
   "source": [
    "east_pre, north_pre, ds_pre = projInfo(BLUE_pre,lat,lon)\n",
    "east_post, north_post, ds_post = projInfo(BLUE_post,lat,lon)\n",
    "ds_post"
   ]
  },
  {
   "cell_type": "code",
   "execution_count": null,
   "metadata": {},
   "outputs": [],
   "source": [
    "#loop through bands, adding each to the dataset\n",
    "def downloadBands(fls,scene_num,bands,ds):\n",
    "    for key in bands.keys():\n",
    "        url = fls.download_url.iloc[-1][:-10] + fls.productId.iloc[-1] + '_' + key + '.TIF'\n",
    "        ds[bands[key]] = (('y','x'),rasterio.open(url).read(1))\n",
    "    return(ds)"
   ]
  },
  {
   "cell_type": "code",
   "execution_count": null,
   "metadata": {},
   "outputs": [],
   "source": [
    "ds_pre = downloadBands(fls_pre,scene_pre,bands,ds_pre)\n",
    "ds_post = downloadBands(fls_post,scene_post,bands,ds_post)\n",
    "ds_pre"
   ]
  },
  {
   "cell_type": "code",
   "execution_count": null,
   "metadata": {},
   "outputs": [],
   "source": [
    "#define function to normalize values in each band to maximize dynamic range in images\n",
    "#convert to uint8 (LandSat8 comes as uint16)\n",
    "def normalize(reflect):\n",
    "    reflect -= reflect.min()\n",
    "    reflect = reflect - reflect.where(reflect>0).min()\n",
    "    reflect = reflect - reflect.where(reflect<0,0)\n",
    "    reflect = reflect/reflect.max()*255\n",
    "    reflect = np.array(reflect, np.uint8)\n",
    "    return reflect"
   ]
  },
  {
   "cell_type": "code",
   "execution_count": null,
   "metadata": {},
   "outputs": [],
   "source": [
    "#zoom in on region of interest\n",
    "def zoomIn(ds,east,north,bands,margin):\n",
    "    zoom = ds.sel(x=slice(east-margin, east+margin), y=slice(north+margin, north-margin))\n",
    "\n",
    "    for key in bands.keys():\n",
    "        zoom[bands[key]]  = (('y','x'),normalize(zoom[bands[key]]))\n",
    "    extent = [zoom.x.min(), zoom.x.max(), zoom.y.min(), zoom.y.max()]\n",
    "    \n",
    "    #display data as images\n",
    "    #natural color composite\n",
    "    fig,ax = plt.subplots(figsize=(12,8))\n",
    "    ax.imshow(np.dstack((zoom.RED,zoom.GREEN,zoom.BLUE)),\n",
    "              origin='upper', extent=extent)\n",
    "    ax.scatter(east,north)\n",
    "    ax.set_title('Natural Color Composite')\n",
    "\n",
    "    #false color composite\n",
    "    fig2,ax2 = plt.subplots(figsize=(12,8))\n",
    "    ax2.imshow(np.dstack((zoom.GREEN,zoom.NIR,zoom.SWIR)),\n",
    "               origin='upper', extent=extent)\n",
    "    ax2.set_title('False Color Composite')\n",
    "\n",
    "    #thermal\n",
    "    fig3,ax3 = plt.subplots(figsize=(12,8))\n",
    "    ax3.imshow(zoom.THERM, cmap='Greys_r',\n",
    "               origin='upper', extent=extent)\n",
    "    ax3.set_title('Thermal')\n",
    "    return(zoom,extent)"
   ]
  },
  {
   "cell_type": "code",
   "execution_count": null,
   "metadata": {},
   "outputs": [],
   "source": [
    "margin = 2000\n",
    "\n",
    "%matplotlib inline\n",
    "zoom_pre, extent_pre = zoomIn(ds_pre, east_pre, north_pre, bands, margin)\n",
    "zoom_post, extent_post = zoomIn(ds_post, east_post, north_post, bands, margin)"
   ]
  },
  {
   "cell_type": "markdown",
   "metadata": {},
   "source": [
    "## Principal Component Analysis"
   ]
  },
  {
   "cell_type": "code",
   "execution_count": null,
   "metadata": {},
   "outputs": [],
   "source": [
    "# Principal Component Analysis\n",
    "def PCFlat(zoom):\n",
    "    flat = [];\n",
    "    for key in bands.keys():\n",
    "        flat.append(zoom[bands[key]].values.flatten())\n",
    "    return(flat)\n",
    "\n",
    "flat_pre = PCFlat(zoom_pre)\n",
    "flat_post = PCFlat(zoom_post)\n",
    "\n",
    "pca = PCA(n_components=6)\n",
    "pca.fit(np.transpose(flat_pre))\n",
    "\n",
    "fig,ax = plt.subplots()\n",
    "ax.plot(pca.singular_values_)\n",
    "ax.set_title('Principal Component Singular Values')\n",
    "\n",
    "fig,ax = plt.subplots()\n",
    "for i in np.arange(6):\n",
    "    ax.plot(pca.components_[i])\n",
    "ax.legend(['PC1','PC2','PC3','PC4','PC5','PC6'],loc='lower right')\n",
    "locs, labels = plt.xticks()\n",
    "plt.xticks(np.arange(6), bands.values())\n",
    "ax.set_title('Principal Components')\n"
   ]
  },
  {
   "cell_type": "code",
   "execution_count": null,
   "metadata": {},
   "outputs": [],
   "source": [
    "def PCTrans(pca,flat,zoom):\n",
    "    trans = pca.transform(np.transpose(flat))\n",
    "    PC = xr.Dataset(data_vars={'PC1':(('y','x'),\n",
    "                               trans[:,0].reshape(zoom.BLUE.shape))},\n",
    "                    coords={'x': zoom.BLUE.x, \n",
    "                            'y': zoom.BLUE.y})\n",
    "    for i in np.arange(1,6):\n",
    "        PC['PC'+np.array2string(i+1)] = (('y','x'),trans[:,i].reshape(zoom.BLUE.shape))\n",
    "    return(PC)"
   ]
  },
  {
   "cell_type": "code",
   "execution_count": null,
   "metadata": {},
   "outputs": [],
   "source": [
    "PC_pre  = PCTrans(pca,flat_pre,zoom_pre)\n",
    "PC_post = PCTrans(pca,flat_post,zoom_post)\n",
    "PC_post"
   ]
  },
  {
   "cell_type": "code",
   "execution_count": null,
   "metadata": {},
   "outputs": [],
   "source": [
    "# PC with highest component in SWIR\n",
    "# PCnum = np.argmax(pca.components_[:,4])\n",
    "\n",
    "# Or specify PC\n",
    "PCnum = np.array(4)\n",
    "\n",
    "PCname = 'PC'+np.array2string(PCnum+1)\n",
    "\n",
    "fig,ax = plt.subplots(figsize=(12,8), ncols=2)\n",
    "ax[0].imshow(PC_pre[PCname],origin='upper', extent=extent_pre)\n",
    "ax[0].set_title('Pre-eruptive')\n",
    "ax[1].imshow(PC_post[PCname],origin='upper', extent=extent_post)\n",
    "ax[1].set_title('Post-eruptive')\n",
    "\n",
    "PCname"
   ]
  },
  {
   "cell_type": "code",
   "execution_count": null,
   "metadata": {},
   "outputs": [],
   "source": [
    "#if (np.round(extent_pre) == np.round(extent_post)).all():\n",
    "PCChange = PC_post - PC_pre\n",
    "    \n",
    "fig,ax = plt.subplots(figsize=(12,8))\n",
    "im = ax.imshow(PCChange[PCname],origin='upper', extent=extent_pre, cmap='bwr', vmax=100, vmin=-100)\n",
    "plt.colorbar(im)\n",
    "ax.set_title('Ground Cover Change in high-SWIR Principal Component')"
   ]
  },
  {
   "cell_type": "code",
   "execution_count": null,
   "metadata": {},
   "outputs": [],
   "source": [
    "threshold = 80 # modify to isolate desired region\n",
    "\n",
    "(PCChange[PCname]>threshold).plot()\n",
    "print(np.array2string((PCChange[PCname]>50).sum()*0.03**2) + ' km^2 Covered')\n",
    "ax.set_title('Eruption Products')"
   ]
  },
  {
   "cell_type": "code",
   "execution_count": null,
   "metadata": {},
   "outputs": [],
   "source": []
  },
  {
   "cell_type": "code",
   "execution_count": null,
   "metadata": {},
   "outputs": [],
   "source": []
  }
 ],
 "metadata": {
  "kernelspec": {
   "display_name": "Python 3",
   "language": "python",
   "name": "python3"
  },
  "language_info": {
   "codemirror_mode": {
    "name": "ipython",
    "version": 3
   },
   "file_extension": ".py",
   "mimetype": "text/x-python",
   "name": "python",
   "nbconvert_exporter": "python",
   "pygments_lexer": "ipython3",
   "version": "3.6.7"
  }
 },
 "nbformat": 4,
 "nbformat_minor": 2
}
